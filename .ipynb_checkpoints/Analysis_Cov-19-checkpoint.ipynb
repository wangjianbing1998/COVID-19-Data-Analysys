{
 "cells": [
  {
   "cell_type": "code",
   "execution_count": 2,
   "metadata": {
    "ExecuteTime": {
     "end_time": "2020-06-14T06:42:31.429200Z",
     "start_time": "2020-06-14T06:42:31.424990Z"
    }
   },
   "outputs": [],
   "source": [
    "import numpy as np\n",
    "import pandas as pd\n",
    "import matplotlib.pyplot as plt\n",
    "import seaborn as sns"
   ]
  },
  {
   "cell_type": "markdown",
   "metadata": {},
   "source": [
    "# 数据读取"
   ]
  },
  {
   "cell_type": "code",
   "execution_count": 3,
   "metadata": {
    "ExecuteTime": {
     "end_time": "2020-06-14T06:42:39.467224Z",
     "start_time": "2020-06-14T06:42:39.419067Z"
    }
   },
   "outputs": [],
   "source": [
    "#reading data from the csv file\n",
    "data= pd.read_csv(\"covid_19_data.csv\")"
   ]
  },
  {
   "cell_type": "code",
   "execution_count": 5,
   "metadata": {
    "ExecuteTime": {
     "end_time": "2020-06-14T06:43:02.914016Z",
     "start_time": "2020-06-14T06:43:02.897061Z"
    }
   },
   "outputs": [
    {
     "data": {
      "text/html": [
       "<div>\n",
       "<style scoped>\n",
       "    .dataframe tbody tr th:only-of-type {\n",
       "        vertical-align: middle;\n",
       "    }\n",
       "\n",
       "    .dataframe tbody tr th {\n",
       "        vertical-align: top;\n",
       "    }\n",
       "\n",
       "    .dataframe thead th {\n",
       "        text-align: right;\n",
       "    }\n",
       "</style>\n",
       "<table border=\"1\" class=\"dataframe\">\n",
       "  <thead>\n",
       "    <tr style=\"text-align: right;\">\n",
       "      <th></th>\n",
       "      <th>SNo</th>\n",
       "      <th>ObservationDate</th>\n",
       "      <th>Province/State</th>\n",
       "      <th>Country/Region</th>\n",
       "      <th>Last Update</th>\n",
       "      <th>Confirmed</th>\n",
       "      <th>Deaths</th>\n",
       "      <th>Recovered</th>\n",
       "    </tr>\n",
       "  </thead>\n",
       "  <tbody>\n",
       "    <tr>\n",
       "      <td>0</td>\n",
       "      <td>1</td>\n",
       "      <td>01/22/2020</td>\n",
       "      <td>Anhui</td>\n",
       "      <td>Mainland China</td>\n",
       "      <td>1/22/2020 17:00</td>\n",
       "      <td>1</td>\n",
       "      <td>0</td>\n",
       "      <td>0</td>\n",
       "    </tr>\n",
       "    <tr>\n",
       "      <td>1</td>\n",
       "      <td>2</td>\n",
       "      <td>01/22/2020</td>\n",
       "      <td>Beijing</td>\n",
       "      <td>Mainland China</td>\n",
       "      <td>1/22/2020 17:00</td>\n",
       "      <td>14</td>\n",
       "      <td>0</td>\n",
       "      <td>0</td>\n",
       "    </tr>\n",
       "    <tr>\n",
       "      <td>2</td>\n",
       "      <td>3</td>\n",
       "      <td>01/22/2020</td>\n",
       "      <td>Chongqing</td>\n",
       "      <td>Mainland China</td>\n",
       "      <td>1/22/2020 17:00</td>\n",
       "      <td>6</td>\n",
       "      <td>0</td>\n",
       "      <td>0</td>\n",
       "    </tr>\n",
       "    <tr>\n",
       "      <td>3</td>\n",
       "      <td>4</td>\n",
       "      <td>01/22/2020</td>\n",
       "      <td>Fujian</td>\n",
       "      <td>Mainland China</td>\n",
       "      <td>1/22/2020 17:00</td>\n",
       "      <td>1</td>\n",
       "      <td>0</td>\n",
       "      <td>0</td>\n",
       "    </tr>\n",
       "    <tr>\n",
       "      <td>4</td>\n",
       "      <td>5</td>\n",
       "      <td>01/22/2020</td>\n",
       "      <td>Gansu</td>\n",
       "      <td>Mainland China</td>\n",
       "      <td>1/22/2020 17:00</td>\n",
       "      <td>0</td>\n",
       "      <td>0</td>\n",
       "      <td>0</td>\n",
       "    </tr>\n",
       "  </tbody>\n",
       "</table>\n",
       "</div>"
      ],
      "text/plain": [
       "   SNo ObservationDate Province/State  Country/Region      Last Update  \\\n",
       "0    1      01/22/2020          Anhui  Mainland China  1/22/2020 17:00   \n",
       "1    2      01/22/2020        Beijing  Mainland China  1/22/2020 17:00   \n",
       "2    3      01/22/2020      Chongqing  Mainland China  1/22/2020 17:00   \n",
       "3    4      01/22/2020         Fujian  Mainland China  1/22/2020 17:00   \n",
       "4    5      01/22/2020          Gansu  Mainland China  1/22/2020 17:00   \n",
       "\n",
       "   Confirmed  Deaths  Recovered  \n",
       "0          1       0          0  \n",
       "1         14       0          0  \n",
       "2          6       0          0  \n",
       "3          1       0          0  \n",
       "4          0       0          0  "
      ]
     },
     "execution_count": 5,
     "metadata": {},
     "output_type": "execute_result"
    }
   ],
   "source": [
    "data.head()"
   ]
  },
  {
   "cell_type": "markdown",
   "metadata": {},
   "source": [
    "## 将Sno和Last Update的字段删了"
   ]
  },
  {
   "cell_type": "code",
   "execution_count": 6,
   "metadata": {
    "ExecuteTime": {
     "end_time": "2020-06-14T06:43:18.556048Z",
     "start_time": "2020-06-14T06:43:18.547034Z"
    }
   },
   "outputs": [],
   "source": [
    "data.drop(\"SNo\", axis=1, inplace=True)\n",
    "data.drop(\"Last Update\", axis=1, inplace=True)"
   ]
  },
  {
   "cell_type": "code",
   "execution_count": 7,
   "metadata": {
    "ExecuteTime": {
     "end_time": "2020-06-14T06:43:22.487539Z",
     "start_time": "2020-06-14T06:43:22.384817Z"
    }
   },
   "outputs": [
    {
     "name": "stdout",
     "output_type": "stream",
     "text": [
      "<class 'pandas.core.frame.DataFrame'>\n",
      "RangeIndex: 40805 entries, 0 to 40804\n",
      "Data columns (total 6 columns):\n",
      "ObservationDate    40805 non-null object\n",
      "Province/State     22790 non-null object\n",
      "Country/Region     40805 non-null object\n",
      "Confirmed          40805 non-null int64\n",
      "Deaths             40805 non-null int64\n",
      "Recovered          40805 non-null int64\n",
      "dtypes: int64(3), object(3)\n",
      "memory usage: 1.9+ MB\n"
     ]
    },
    {
     "data": {
      "text/html": [
       "<div>\n",
       "<style scoped>\n",
       "    .dataframe tbody tr th:only-of-type {\n",
       "        vertical-align: middle;\n",
       "    }\n",
       "\n",
       "    .dataframe tbody tr th {\n",
       "        vertical-align: top;\n",
       "    }\n",
       "\n",
       "    .dataframe thead th {\n",
       "        text-align: right;\n",
       "    }\n",
       "</style>\n",
       "<table border=\"1\" class=\"dataframe\">\n",
       "  <thead>\n",
       "    <tr style=\"text-align: right;\">\n",
       "      <th></th>\n",
       "      <th>Confirmed</th>\n",
       "      <th>Deaths</th>\n",
       "      <th>Recovered</th>\n",
       "    </tr>\n",
       "  </thead>\n",
       "  <tbody>\n",
       "    <tr>\n",
       "      <td>count</td>\n",
       "      <td>40805.000000</td>\n",
       "      <td>40805.000000</td>\n",
       "      <td>40805.000000</td>\n",
       "    </tr>\n",
       "    <tr>\n",
       "      <td>mean</td>\n",
       "      <td>7403.745448</td>\n",
       "      <td>465.412621</td>\n",
       "      <td>2728.499547</td>\n",
       "    </tr>\n",
       "    <tr>\n",
       "      <td>std</td>\n",
       "      <td>26483.022808</td>\n",
       "      <td>2392.737598</td>\n",
       "      <td>16413.103519</td>\n",
       "    </tr>\n",
       "    <tr>\n",
       "      <td>min</td>\n",
       "      <td>0.000000</td>\n",
       "      <td>0.000000</td>\n",
       "      <td>0.000000</td>\n",
       "    </tr>\n",
       "    <tr>\n",
       "      <td>25%</td>\n",
       "      <td>44.000000</td>\n",
       "      <td>0.000000</td>\n",
       "      <td>0.000000</td>\n",
       "    </tr>\n",
       "    <tr>\n",
       "      <td>50%</td>\n",
       "      <td>458.000000</td>\n",
       "      <td>7.000000</td>\n",
       "      <td>29.000000</td>\n",
       "    </tr>\n",
       "    <tr>\n",
       "      <td>75%</td>\n",
       "      <td>2836.000000</td>\n",
       "      <td>82.000000</td>\n",
       "      <td>570.000000</td>\n",
       "    </tr>\n",
       "    <tr>\n",
       "      <td>max</td>\n",
       "      <td>405843.000000</td>\n",
       "      <td>41128.000000</td>\n",
       "      <td>547386.000000</td>\n",
       "    </tr>\n",
       "  </tbody>\n",
       "</table>\n",
       "</div>"
      ],
      "text/plain": [
       "           Confirmed        Deaths      Recovered\n",
       "count   40805.000000  40805.000000   40805.000000\n",
       "mean     7403.745448    465.412621    2728.499547\n",
       "std     26483.022808   2392.737598   16413.103519\n",
       "min         0.000000      0.000000       0.000000\n",
       "25%        44.000000      0.000000       0.000000\n",
       "50%       458.000000      7.000000      29.000000\n",
       "75%      2836.000000     82.000000     570.000000\n",
       "max    405843.000000  41128.000000  547386.000000"
      ]
     },
     "execution_count": 7,
     "metadata": {},
     "output_type": "execute_result"
    }
   ],
   "source": [
    "#getting a summary of the columns\n",
    "data.info()\n",
    "\n",
    "data.describe()"
   ]
  },
  {
   "cell_type": "code",
   "execution_count": 9,
   "metadata": {
    "ExecuteTime": {
     "end_time": "2020-06-14T06:44:34.319688Z",
     "start_time": "2020-06-14T06:44:34.295755Z"
    }
   },
   "outputs": [
    {
     "data": {
      "text/html": [
       "<div>\n",
       "<style scoped>\n",
       "    .dataframe tbody tr th:only-of-type {\n",
       "        vertical-align: middle;\n",
       "    }\n",
       "\n",
       "    .dataframe tbody tr th {\n",
       "        vertical-align: top;\n",
       "    }\n",
       "\n",
       "    .dataframe thead th {\n",
       "        text-align: right;\n",
       "    }\n",
       "</style>\n",
       "<table border=\"1\" class=\"dataframe\">\n",
       "  <thead>\n",
       "    <tr style=\"text-align: right;\">\n",
       "      <th></th>\n",
       "      <th>ObservationDate</th>\n",
       "      <th>Province/State</th>\n",
       "      <th>Country/Region</th>\n",
       "      <th>Confirmed</th>\n",
       "      <th>Deaths</th>\n",
       "      <th>Recovered</th>\n",
       "    </tr>\n",
       "  </thead>\n",
       "  <tbody>\n",
       "    <tr>\n",
       "      <td>4925</td>\n",
       "      <td>03/11/2020</td>\n",
       "      <td>Gansu</td>\n",
       "      <td>Mainland China</td>\n",
       "      <td>0</td>\n",
       "      <td>0</td>\n",
       "      <td>0</td>\n",
       "    </tr>\n",
       "    <tr>\n",
       "      <td>4926</td>\n",
       "      <td>03/11/2020</td>\n",
       "      <td>Hebei</td>\n",
       "      <td>Mainland China</td>\n",
       "      <td>0</td>\n",
       "      <td>0</td>\n",
       "      <td>0</td>\n",
       "    </tr>\n",
       "    <tr>\n",
       "      <td>5146</td>\n",
       "      <td>03/12/2020</td>\n",
       "      <td>Gansu</td>\n",
       "      <td>Mainland China</td>\n",
       "      <td>0</td>\n",
       "      <td>0</td>\n",
       "      <td>0</td>\n",
       "    </tr>\n",
       "    <tr>\n",
       "      <td>5147</td>\n",
       "      <td>03/12/2020</td>\n",
       "      <td>Hebei</td>\n",
       "      <td>Mainland China</td>\n",
       "      <td>0</td>\n",
       "      <td>0</td>\n",
       "      <td>0</td>\n",
       "    </tr>\n",
       "  </tbody>\n",
       "</table>\n",
       "</div>"
      ],
      "text/plain": [
       "     ObservationDate Province/State  Country/Region  Confirmed  Deaths  \\\n",
       "4925      03/11/2020          Gansu  Mainland China          0       0   \n",
       "4926      03/11/2020          Hebei  Mainland China          0       0   \n",
       "5146      03/12/2020          Gansu  Mainland China          0       0   \n",
       "5147      03/12/2020          Hebei  Mainland China          0       0   \n",
       "\n",
       "      Recovered  \n",
       "4925          0  \n",
       "4926          0  \n",
       "5146          0  \n",
       "5147          0  "
      ]
     },
     "execution_count": 9,
     "metadata": {},
     "output_type": "execute_result"
    }
   ],
   "source": [
    "duplicate_rows=data.duplicated(['Country/Region','Province/State','ObservationDate'])\n",
    "data[duplicate_rows]"
   ]
  },
  {
   "cell_type": "code",
   "execution_count": 11,
   "metadata": {
    "ExecuteTime": {
     "end_time": "2020-06-14T06:45:09.155080Z",
     "start_time": "2020-06-14T06:45:09.150088Z"
    }
   },
   "outputs": [
    {
     "name": "stdout",
     "output_type": "stream",
     "text": [
      "['Mainland China', 'Hong Kong', 'Macau', 'Taiwan', 'US', 'Japan', 'Thailand', 'South Korea', 'Singapore', 'Philippines', 'Malaysia', 'Vietnam', 'Australia', 'Mexico', 'Brazil', 'Colombia', 'France', 'Nepal', 'Canada', 'Cambodia', 'Sri Lanka', 'Ivory Coast', 'Germany', 'Finland', 'United Arab Emirates', 'India', 'Italy', 'UK', 'Russia', 'Sweden', 'Spain', 'Belgium', 'Others', 'Egypt', 'Iran', 'Israel', 'Lebanon', 'Iraq', 'Oman', 'Afghanistan', 'Bahrain', 'Kuwait', 'Austria', 'Algeria', 'Croatia', 'Switzerland', 'Pakistan', 'Georgia', 'Greece', 'North Macedonia', 'Norway', 'Romania', 'Denmark', 'Estonia', 'Netherlands', 'San Marino', ' Azerbaijan', 'Belarus', 'Iceland', 'Lithuania', 'New Zealand', 'Nigeria', 'North Ireland', 'Ireland', 'Luxembourg', 'Monaco', 'Qatar', 'Ecuador', 'Azerbaijan', 'Czech Republic', 'Armenia', 'Dominican Republic', 'Indonesia', 'Portugal', 'Andorra', 'Latvia', 'Morocco', 'Saudi Arabia', 'Senegal', 'Argentina', 'Chile', 'Jordan', 'Ukraine', 'Saint Barthelemy', 'Hungary', 'Faroe Islands', 'Gibraltar', 'Liechtenstein', 'Poland', 'Tunisia', 'Palestine', 'Bosnia and Herzegovina', 'Slovenia', 'South Africa', 'Bhutan', 'Cameroon', 'Costa Rica', 'Peru', 'Serbia', 'Slovakia', 'Togo', 'Vatican City', 'French Guiana', 'Malta', 'Martinique', 'Republic of Ireland', 'Bulgaria', 'Maldives', 'Bangladesh', 'Moldova', 'Paraguay', 'Albania', 'Cyprus', 'St. Martin', 'Brunei', 'occupied Palestinian territory', \"('St. Martin',)\", 'Burkina Faso', 'Channel Islands', 'Holy See', 'Mongolia', 'Panama', 'Bolivia', 'Honduras', 'Congo (Kinshasa)', 'Jamaica', 'Reunion', 'Turkey', 'Cuba', 'Guyana', 'Kazakhstan', 'Cayman Islands', 'Guadeloupe', 'Ethiopia', 'Sudan', 'Guinea', 'Antigua and Barbuda', 'Aruba', 'Kenya', 'Uruguay', 'Ghana', 'Jersey', 'Namibia', 'Seychelles', 'Trinidad and Tobago', 'Venezuela', 'Curacao', 'Eswatini', 'Gabon', 'Guatemala', 'Guernsey', 'Mauritania', 'Rwanda', 'Saint Lucia', 'Saint Vincent and the Grenadines', 'Suriname', 'Kosovo', 'Central African Republic', 'Congo (Brazzaville)', 'Equatorial Guinea', 'Uzbekistan', 'Guam', 'Puerto Rico', 'Benin', 'Greenland', 'Liberia', 'Mayotte', 'Republic of the Congo', 'Somalia', 'Tanzania', 'The Bahamas', 'Barbados', 'Montenegro', 'The Gambia', 'Kyrgyzstan', 'Mauritius', 'Zambia', 'Djibouti', 'Gambia, The', 'Bahamas, The', 'Chad', 'El Salvador', 'Fiji', 'Nicaragua', 'Madagascar', 'Haiti', 'Angola', 'Cabo Verde', 'Niger', 'Papua New Guinea', 'Zimbabwe', 'Cape Verde', 'East Timor', 'Eritrea', 'Uganda', 'Bahamas', 'Dominica', 'Gambia', 'Grenada', 'Mozambique', 'Syria', 'Timor-Leste', 'Belize', 'Laos', 'Libya', 'Diamond Princess', 'Guinea-Bissau', 'Mali', 'Saint Kitts and Nevis', 'West Bank and Gaza', 'Burma', 'MS Zaandam', 'Botswana', 'Burundi', 'Sierra Leone', 'Malawi', 'South Sudan', 'Western Sahara', 'Sao Tome and Principe', 'Yemen', 'Comoros', 'Tajikistan', 'Lesotho']\n",
      "223\n"
     ]
    }
   ],
   "source": [
    "#listing all the countries where the virus has spread to\n",
    "country_list=list(data['Country/Region'].unique())\n",
    "print(country_list)\n",
    "print(len(country_list))"
   ]
  },
  {
   "cell_type": "code",
   "execution_count": 13,
   "metadata": {
    "ExecuteTime": {
     "end_time": "2020-06-14T06:46:12.477198Z",
     "start_time": "2020-06-14T06:46:12.463238Z"
    }
   },
   "outputs": [],
   "source": [
    "#merging China and Mainland China\n",
    "data.loc[data['Country/Region']=='Mainland China','Country/Region']='China'"
   ]
  },
  {
   "cell_type": "code",
   "execution_count": 42,
   "metadata": {
    "ExecuteTime": {
     "end_time": "2020-06-14T06:59:01.680203Z",
     "start_time": "2020-06-14T06:59:01.669268Z"
    }
   },
   "outputs": [
    {
     "name": "stdout",
     "output_type": "stream",
     "text": [
      "['01/22/2020', '01/23/2020', '01/24/2020', '01/25/2020', '01/26/2020', '01/27/2020', '01/28/2020', '01/29/2020', '01/30/2020', '01/31/2020', '02/01/2020', '02/02/2020', '02/03/2020', '02/04/2020', '02/05/2020', '02/06/2020', '02/07/2020', '02/08/2020', '02/09/2020', '02/10/2020', '02/11/2020', '02/12/2020', '02/13/2020', '02/14/2020', '02/15/2020', '02/16/2020', '02/17/2020', '02/18/2020', '02/19/2020', '02/20/2020', '02/21/2020', '02/22/2020', '02/23/2020', '02/24/2020', '02/25/2020', '02/26/2020', '02/27/2020', '02/28/2020', '02/29/2020', '03/01/2020', '03/02/2020', '03/03/2020', '03/04/2020', '03/05/2020', '03/06/2020', '03/07/2020', '03/08/2020', '03/09/2020', '03/10/2020', '03/11/2020', '03/12/2020', '03/13/2020', '03/14/2020', '03/15/2020', '03/16/2020', '03/17/2020', '03/18/2020', '03/19/2020', '03/20/2020', '03/21/2020', '03/22/2020', '03/23/2020', '03/24/2020', '03/25/2020', '03/26/2020', '03/27/2020', '03/28/2020', '03/29/2020', '03/30/2020', '03/31/2020', '04/01/2020', '04/02/2020', '04/03/2020', '04/04/2020', '04/05/2020', '04/06/2020', '04/07/2020', '04/08/2020', '04/09/2020', '04/10/2020', '04/11/2020', '04/12/2020', '04/13/2020', '04/14/2020', '04/15/2020', '04/16/2020', '04/17/2020', '04/18/2020', '04/19/2020', '04/20/2020', '04/21/2020', '04/22/2020', '04/23/2020', '04/24/2020', '04/25/2020', '04/26/2020', '04/27/2020', '04/28/2020', '04/29/2020', '04/30/2020', '05/01/2020', '05/02/2020', '05/03/2020', '05/04/2020', '05/05/2020', '05/06/2020', '05/07/2020', '05/08/2020', '05/09/2020', '05/10/2020', '05/11/2020', '05/12/2020', '05/13/2020', '05/14/2020', '05/15/2020', '05/16/2020', '05/17/2020', '05/18/2020', '05/19/2020', '05/20/2020', '05/21/2020', '05/22/2020', '05/23/2020', '05/24/2020', '05/25/2020', '05/26/2020', '05/27/2020', '05/28/2020', '05/29/2020', '05/30/2020', '05/31/2020', '06/01/2020', '06/02/2020', '06/03/2020', '06/04/2020', '06/05/2020', '06/06/2020', '06/07/2020', '06/08/2020', '06/09/2020', '06/10/2020', '06/11/2020', '06/12/2020']\n",
      "143\n"
     ]
    }
   ],
   "source": [
    "# listing all date during the cov-19 spreading \n",
    "print(list(data['ObservationDate'].unique()))\n",
    "print(len(list(data['ObservationDate'].unique())))"
   ]
  },
  {
   "cell_type": "code",
   "execution_count": 43,
   "metadata": {
    "ExecuteTime": {
     "end_time": "2020-06-14T06:59:08.137313Z",
     "start_time": "2020-06-14T06:59:08.128336Z"
    }
   },
   "outputs": [],
   "source": [
    "# converting 'Date' column to datetime object\n",
    "data['Date'] = pd.to_datetime(data['ObservationDate'])"
   ]
  },
  {
   "cell_type": "code",
   "execution_count": 20,
   "metadata": {
    "ExecuteTime": {
     "end_time": "2020-06-14T06:47:15.252346Z",
     "start_time": "2020-06-14T06:47:15.144749Z"
    }
   },
   "outputs": [],
   "source": [
    "#extracting dates from timestamps\n",
    "data['Date_date']=data['Date'].apply(lambda x:x.date())"
   ]
  },
  {
   "cell_type": "code",
   "execution_count": 21,
   "metadata": {
    "ExecuteTime": {
     "end_time": "2020-06-14T06:47:22.653095Z",
     "start_time": "2020-06-14T06:47:22.642086Z"
    }
   },
   "outputs": [
    {
     "data": {
      "text/html": [
       "<div>\n",
       "<style scoped>\n",
       "    .dataframe tbody tr th:only-of-type {\n",
       "        vertical-align: middle;\n",
       "    }\n",
       "\n",
       "    .dataframe tbody tr th {\n",
       "        vertical-align: top;\n",
       "    }\n",
       "\n",
       "    .dataframe thead th {\n",
       "        text-align: right;\n",
       "    }\n",
       "</style>\n",
       "<table border=\"1\" class=\"dataframe\">\n",
       "  <thead>\n",
       "    <tr style=\"text-align: right;\">\n",
       "      <th></th>\n",
       "      <th>ObservationDate</th>\n",
       "      <th>Province/State</th>\n",
       "      <th>Country/Region</th>\n",
       "      <th>Confirmed</th>\n",
       "      <th>Deaths</th>\n",
       "      <th>Recovered</th>\n",
       "      <th>Date</th>\n",
       "      <th>Date_date</th>\n",
       "    </tr>\n",
       "  </thead>\n",
       "  <tbody>\n",
       "    <tr>\n",
       "      <td>0</td>\n",
       "      <td>01/22/2020</td>\n",
       "      <td>Anhui</td>\n",
       "      <td>China</td>\n",
       "      <td>1</td>\n",
       "      <td>0</td>\n",
       "      <td>0</td>\n",
       "      <td>2020-01-22</td>\n",
       "      <td>2020-01-22</td>\n",
       "    </tr>\n",
       "    <tr>\n",
       "      <td>1</td>\n",
       "      <td>01/22/2020</td>\n",
       "      <td>Beijing</td>\n",
       "      <td>China</td>\n",
       "      <td>14</td>\n",
       "      <td>0</td>\n",
       "      <td>0</td>\n",
       "      <td>2020-01-22</td>\n",
       "      <td>2020-01-22</td>\n",
       "    </tr>\n",
       "    <tr>\n",
       "      <td>2</td>\n",
       "      <td>01/22/2020</td>\n",
       "      <td>Chongqing</td>\n",
       "      <td>China</td>\n",
       "      <td>6</td>\n",
       "      <td>0</td>\n",
       "      <td>0</td>\n",
       "      <td>2020-01-22</td>\n",
       "      <td>2020-01-22</td>\n",
       "    </tr>\n",
       "    <tr>\n",
       "      <td>3</td>\n",
       "      <td>01/22/2020</td>\n",
       "      <td>Fujian</td>\n",
       "      <td>China</td>\n",
       "      <td>1</td>\n",
       "      <td>0</td>\n",
       "      <td>0</td>\n",
       "      <td>2020-01-22</td>\n",
       "      <td>2020-01-22</td>\n",
       "    </tr>\n",
       "    <tr>\n",
       "      <td>4</td>\n",
       "      <td>01/22/2020</td>\n",
       "      <td>Gansu</td>\n",
       "      <td>China</td>\n",
       "      <td>0</td>\n",
       "      <td>0</td>\n",
       "      <td>0</td>\n",
       "      <td>2020-01-22</td>\n",
       "      <td>2020-01-22</td>\n",
       "    </tr>\n",
       "  </tbody>\n",
       "</table>\n",
       "</div>"
      ],
      "text/plain": [
       "  ObservationDate Province/State Country/Region  Confirmed  Deaths  Recovered  \\\n",
       "0      01/22/2020          Anhui          China          1       0          0   \n",
       "1      01/22/2020        Beijing          China         14       0          0   \n",
       "2      01/22/2020      Chongqing          China          6       0          0   \n",
       "3      01/22/2020         Fujian          China          1       0          0   \n",
       "4      01/22/2020          Gansu          China          0       0          0   \n",
       "\n",
       "        Date   Date_date  \n",
       "0 2020-01-22  2020-01-22  \n",
       "1 2020-01-22  2020-01-22  \n",
       "2 2020-01-22  2020-01-22  \n",
       "3 2020-01-22  2020-01-22  \n",
       "4 2020-01-22  2020-01-22  "
      ]
     },
     "execution_count": 21,
     "metadata": {},
     "output_type": "execute_result"
    }
   ],
   "source": [
    "data.head()"
   ]
  },
  {
   "cell_type": "code",
   "execution_count": 44,
   "metadata": {
    "ExecuteTime": {
     "end_time": "2020-06-14T06:59:21.163513Z",
     "start_time": "2020-06-14T06:59:21.139545Z"
    }
   },
   "outputs": [
    {
     "data": {
      "text/html": [
       "<div>\n",
       "<style scoped>\n",
       "    .dataframe tbody tr th:only-of-type {\n",
       "        vertical-align: middle;\n",
       "    }\n",
       "\n",
       "    .dataframe tbody tr th {\n",
       "        vertical-align: top;\n",
       "    }\n",
       "\n",
       "    .dataframe thead th {\n",
       "        text-align: right;\n",
       "    }\n",
       "</style>\n",
       "<table border=\"1\" class=\"dataframe\">\n",
       "  <thead>\n",
       "    <tr style=\"text-align: right;\">\n",
       "      <th></th>\n",
       "      <th>Confirmed</th>\n",
       "      <th>Deaths</th>\n",
       "      <th>Recovered</th>\n",
       "    </tr>\n",
       "  </thead>\n",
       "  <tbody>\n",
       "    <tr>\n",
       "      <td>count</td>\n",
       "      <td>40805.000000</td>\n",
       "      <td>40805.000000</td>\n",
       "      <td>40805.000000</td>\n",
       "    </tr>\n",
       "    <tr>\n",
       "      <td>mean</td>\n",
       "      <td>7403.745448</td>\n",
       "      <td>465.412621</td>\n",
       "      <td>2728.499547</td>\n",
       "    </tr>\n",
       "    <tr>\n",
       "      <td>std</td>\n",
       "      <td>26483.022808</td>\n",
       "      <td>2392.737598</td>\n",
       "      <td>16413.103519</td>\n",
       "    </tr>\n",
       "    <tr>\n",
       "      <td>min</td>\n",
       "      <td>0.000000</td>\n",
       "      <td>0.000000</td>\n",
       "      <td>0.000000</td>\n",
       "    </tr>\n",
       "    <tr>\n",
       "      <td>25%</td>\n",
       "      <td>44.000000</td>\n",
       "      <td>0.000000</td>\n",
       "      <td>0.000000</td>\n",
       "    </tr>\n",
       "    <tr>\n",
       "      <td>50%</td>\n",
       "      <td>458.000000</td>\n",
       "      <td>7.000000</td>\n",
       "      <td>29.000000</td>\n",
       "    </tr>\n",
       "    <tr>\n",
       "      <td>75%</td>\n",
       "      <td>2836.000000</td>\n",
       "      <td>82.000000</td>\n",
       "      <td>570.000000</td>\n",
       "    </tr>\n",
       "    <tr>\n",
       "      <td>max</td>\n",
       "      <td>405843.000000</td>\n",
       "      <td>41128.000000</td>\n",
       "      <td>547386.000000</td>\n",
       "    </tr>\n",
       "  </tbody>\n",
       "</table>\n",
       "</div>"
      ],
      "text/plain": [
       "           Confirmed        Deaths      Recovered\n",
       "count   40805.000000  40805.000000   40805.000000\n",
       "mean     7403.745448    465.412621    2728.499547\n",
       "std     26483.022808   2392.737598   16413.103519\n",
       "min         0.000000      0.000000       0.000000\n",
       "25%        44.000000      0.000000       0.000000\n",
       "50%       458.000000      7.000000      29.000000\n",
       "75%      2836.000000     82.000000     570.000000\n",
       "max    405843.000000  41128.000000  547386.000000"
      ]
     },
     "execution_count": 44,
     "metadata": {},
     "output_type": "execute_result"
    }
   ],
   "source": [
    "data.describe()"
   ]
  },
  {
   "cell_type": "code",
   "execution_count": 45,
   "metadata": {
    "ExecuteTime": {
     "end_time": "2020-06-14T06:59:27.648817Z",
     "start_time": "2020-06-14T06:59:27.438705Z"
    }
   },
   "outputs": [
    {
     "name": "stdout",
     "output_type": "stream",
     "text": [
      "                     Country/Region  Confirmed  Deaths  Recovered\n",
      "0                        Azerbaijan          1       0          0\n",
      "1                   ('St. Martin',)          2       0          0\n",
      "2                       Afghanistan      23546     446       3928\n",
      "3                           Albania       1416      36       1034\n",
      "4                           Algeria      10698     751       7322\n",
      "..                              ...        ...     ...        ...\n",
      "218                  Western Sahara          9       1          6\n",
      "219                           Yemen        632     139         28\n",
      "220                          Zambia       1321      10       1104\n",
      "221                        Zimbabwe        343       4         51\n",
      "222  occupied Palestinian territory         25       0          0\n",
      "\n",
      "[223 rows x 4 columns]\n"
     ]
    }
   ],
   "source": [
    "# getting the total number of confirmed cases for each country\n",
    "\n",
    "df_country=data.groupby(['Country/Region']).max().reset_index(drop=None)\n",
    "print(df_country[['Country/Region','Confirmed','Deaths','Recovered']])"
   ]
  },
  {
   "cell_type": "code",
   "execution_count": 24,
   "metadata": {
    "ExecuteTime": {
     "end_time": "2020-06-14T06:48:13.323928Z",
     "start_time": "2020-06-14T06:48:13.299956Z"
    }
   },
   "outputs": [
    {
     "name": "stdout",
     "output_type": "stream",
     "text": [
      "      Date_date  Confirmed  Deaths  Recovered  daily_cases  daily_deaths  \\\n",
      "0    2020-01-22        555      17         28          NaN           NaN   \n",
      "1    2020-01-23        653      18         30         98.0           1.0   \n",
      "2    2020-01-24        941      26         36        288.0           8.0   \n",
      "3    2020-01-25       1438      42         39        497.0          16.0   \n",
      "4    2020-01-26       2118      56         52        680.0          14.0   \n",
      "..          ...        ...     ...        ...          ...           ...   \n",
      "138  2020-06-08    7119002  406543    3293408     108420.0        3799.0   \n",
      "139  2020-06-09    7242313  411436    3375673     123311.0        4893.0   \n",
      "140  2020-06-10    7360239  416201    3454807     117926.0        4765.0   \n",
      "141  2020-06-11    7514481  421458    3540696     154242.0        5257.0   \n",
      "142  2020-06-12    7632802  425394    3613277     118321.0        3936.0   \n",
      "\n",
      "     daily_recoveries  \n",
      "0                 NaN  \n",
      "1                 2.0  \n",
      "2                 6.0  \n",
      "3                 3.0  \n",
      "4                13.0  \n",
      "..                ...  \n",
      "138          152488.0  \n",
      "139           82265.0  \n",
      "140           79134.0  \n",
      "141           85889.0  \n",
      "142           72581.0  \n",
      "\n",
      "[143 rows x 7 columns]\n"
     ]
    }
   ],
   "source": [
    "df_by_date=data.groupby(['Date_date']).sum().reset_index(drop=None)\n",
    "\n",
    "\n",
    "\n",
    "df_by_date['daily_cases']=df_by_date.Confirmed.diff()\n",
    "df_by_date['daily_deaths']=df_by_date.Deaths.diff()\n",
    "df_by_date['daily_recoveries']=df_by_date.Recovered.diff()\n",
    "print(df_by_date)"
   ]
  },
  {
   "cell_type": "markdown",
   "metadata": {},
   "source": [
    "# 数据可视化"
   ]
  },
  {
   "cell_type": "markdown",
   "metadata": {},
   "source": [
    "### 一段时间内的确诊病例数"
   ]
  },
  {
   "cell_type": "code",
   "execution_count": 36,
   "metadata": {
    "ExecuteTime": {
     "end_time": "2020-06-14T06:53:10.176040Z",
     "start_time": "2020-06-14T06:53:09.970552Z"
    }
   },
   "outputs": [
    {
     "data": {
      "text/plain": [
       "Text(0.5, 0, 'Dates')"
      ]
     },
     "execution_count": 36,
     "metadata": {},
     "output_type": "execute_result"
    },
    {
     "data": {
      "image/png": "[encoded data removed]",
      "text/plain": [
       "<Figure size 432x288 with 1 Axes>"
      ]
     },
     "metadata": {
      "needs_background": "light"
     },
     "output_type": "display_data"
    }
   ],
   "source": [
    "#plotting a bar chart of confirmed cases over time\n",
    "\n",
    "sns.axes_style(\"whitegrid\")\n",
    "\n",
    "\n",
    "show_data=data.iloc[:1000,:]\n",
    "sns.barplot(\n",
    "x=\"Date_date\",\n",
    "y=\"Confirmed\", \n",
    "\n",
    "data=show_data.groupby(['Date_date']).sum().reset_index(drop=None)\n",
    ")\n",
    "\n",
    "\n",
    "\n",
    "plt.xticks(rotation=60)\n",
    "plt.ylabel('Number of confirmed cases',fontsize=15)\n",
    "plt.xlabel('Dates',fontsize=15)"
   ]
  },
  {
   "cell_type": "markdown",
   "metadata": {},
   "source": [
    "### 死亡率与康复率"
   ]
  },
  {
   "cell_type": "code",
   "execution_count": 37,
   "metadata": {
    "ExecuteTime": {
     "end_time": "2020-06-14T06:53:12.287730Z",
     "start_time": "2020-06-14T06:53:12.143118Z"
    }
   },
   "outputs": [
    {
     "name": "stderr",
     "output_type": "stream",
     "text": [
      "e:\\python\\envs\\py36\\lib\\site-packages\\pandas\\plotting\\_matplotlib\\converter.py:103: FutureWarning: Using an implicitly registered datetime converter for a matplotlib plotting method. The converter was registered by pandas on import. Future versions of pandas will require you to explicitly register matplotlib converters.\n",
      "\n",
      "To register the converters:\n",
      "\t>>> from pandas.plotting import register_matplotlib_converters\n",
      "\t>>> register_matplotlib_converters()\n",
      "  warnings.warn(msg, FutureWarning)\n"
     ]
    },
    {
     "data": {
      "image/png": "[encoded data removed]",
      "text/plain": [
       "<Figure size 432x288 with 1 Axes>"
      ]
     },
     "metadata": {
      "needs_background": "light"
     },
     "output_type": "display_data"
    }
   ],
   "source": [
    "#plotting two line plots for deaths and recoveries respectively\n",
    "\n",
    "\n",
    "\n",
    "plt.plot('Date_date', 'Deaths', data=show_data.groupby(['Date_date']).sum().reset_index(drop=None), color='red')\n",
    "\n",
    "\n",
    "\n",
    "plt.plot('Date_date', 'Recovered', data=show_data.groupby(['Date_date']).sum().reset_index(drop=None), color='green')\n",
    "\n",
    "\n",
    "\n",
    "plt.xticks(rotation=60)\n",
    "plt.ylabel('Number of cases',fontsize=15)\n",
    "plt.xlabel('Dates',fontsize=15)\n",
    "plt.legend()\n",
    "plt.show()"
   ]
  },
  {
   "cell_type": "markdown",
   "metadata": {},
   "source": [
    "## 小结\n",
    "- 从2020.2.1开始，死亡率相较于康复率的增长速度放缓\n",
    "- 建议"
   ]
  },
  {
   "cell_type": "markdown",
   "metadata": {},
   "source": [
    "### 除中国外，受影响最严重的 10 个国家"
   ]
  },
  {
   "cell_type": "code",
   "execution_count": 39,
   "metadata": {
    "ExecuteTime": {
     "end_time": "2020-06-14T06:54:14.651114Z",
     "start_time": "2020-06-14T06:54:14.466598Z"
    }
   },
   "outputs": [
    {
     "data": {
      "text/plain": [
       "(array([     0.,  50000., 100000., 150000., 200000., 250000., 300000.,\n",
       "        350000., 400000., 450000.]), <a list of 10 Text yticklabel objects>)"
      ]
     },
     "execution_count": 39,
     "metadata": {},
     "output_type": "execute_result"
    },
    {
     "data": {
      "image/png": "[encoded data removed]",
      "text/plain": [
       "<Figure size 1080x504 with 1 Axes>"
      ]
     },
     "metadata": {
      "needs_background": "light"
     },
     "output_type": "display_data"
    }
   ],
   "source": [
    "#We know that China is the most affected country by a large margin, \n",
    "\n",
    "#so lets create a bar plot to compare countries other than China\n",
    "\n",
    "\n",
    "\n",
    "#increasing the figure size\n",
    "plt.rcParams['figure.figsize']=(15,7)\n",
    "\n",
    "\n",
    "\n",
    "sns.barplot(\n",
    "x=\"Country/Region\",\n",
    "y=\"Confirmed\",\n",
    "data=df_country[df_country[\"Country/Region\"]!='China'].nlargest(10,'Confirmed'),\n",
    "palette=sns.cubehelix_palette(15, reverse=True)\n",
    ")\n",
    "\n",
    "\n",
    "\n",
    "plt.ylabel('Number of cases',fontsize=15)\n",
    "plt.xlabel('Countries',fontsize=15)\n",
    "plt.xticks(fontsize=13)\n",
    "plt.yticks(fontsize=13)"
   ]
  },
  {
   "cell_type": "markdown",
   "metadata": {
    "ExecuteTime": {
     "end_time": "2020-06-14T07:00:32.648968Z",
     "start_time": "2020-06-14T07:00:32.643981Z"
    }
   },
   "source": [
    "### 死亡率和时间的关系"
   ]
  },
  {
   "cell_type": "code",
   "execution_count": 40,
   "metadata": {
    "ExecuteTime": {
     "end_time": "2020-06-14T06:54:28.623787Z",
     "start_time": "2020-06-14T06:54:28.490101Z"
    }
   },
   "outputs": [
    {
     "data": {
      "image/png": "[encoded data removed]",
      "text/plain": [
       "<Figure size 1080x504 with 1 Axes>"
      ]
     },
     "metadata": {
      "needs_background": "light"
     },
     "output_type": "display_data"
    }
   ],
   "source": [
    "#The mortality rate, at any point in time, can be roughly calculated \n",
    "\n",
    "#by dividing the number of deaths by the number of confirmed cases\n",
    "\n",
    "\n",
    "\n",
    "df_by_date['mrate']=df_by_date.apply(lambda x: x['Deaths']*100/(x['Confirmed']), axis=1)\n",
    "\n",
    "\n",
    "\n",
    "plt.plot('Date_date','mrate',data=df_by_date, color='red')\n",
    "plt.show()"
   ]
  },
  {
   "cell_type": "markdown",
   "metadata": {},
   "source": [
    " ### 中国十大受灾最重的省份"
   ]
  },
  {
   "cell_type": "code",
   "execution_count": 41,
   "metadata": {
    "ExecuteTime": {
     "end_time": "2020-06-14T06:54:54.933879Z",
     "start_time": "2020-06-14T06:54:54.648398Z"
    }
   },
   "outputs": [
    {
     "data": {
      "text/plain": [
       "Text(0, 0.5, 'Number of cases')"
      ]
     },
     "execution_count": 41,
     "metadata": {},
     "output_type": "execute_result"
    },
    {
     "data": {
      "image/png": "[encoded data removed]",
      "text/plain": [
       "<Figure size 1080x504 with 1 Axes>"
      ]
     },
     "metadata": {
      "needs_background": "light"
     },
     "output_type": "display_data"
    }
   ],
   "source": [
    "#creating a separate dataframe for provinces\n",
    "\n",
    "\n",
    "\n",
    "df_province=data[data['Country/Region']=='China'].groupby(['Province/State']).max().reset_index(drop=None)\n",
    "\n",
    "\n",
    "\n",
    "#selecting 10 most affected provinces\n",
    "df_province=df_province.nlargest(10,'Confirmed')\n",
    "\n",
    "\n",
    "\n",
    "df_province=df_province[['Province/State','Deaths','Recovered']]\n",
    "\n",
    "\n",
    "\n",
    "#for multi-bar plots in seaborn, we need to melt the dataframe so \n",
    "\n",
    "#that the the deaths and recovered values are in the same column\n",
    "df_province= df_province.melt(id_vars=['Province/State'])\n",
    "\n",
    "sns.barplot(\n",
    "x='Province/State',\n",
    "y='value',\n",
    "hue='variable',\n",
    "data=df_province\n",
    ")\n",
    "\n",
    "\n",
    "\n",
    "plt.xlabel('Provinces',fontsize=15)\n",
    "plt.ylabel('Number of cases',fontsize=15)"
   ]
  },
  {
   "cell_type": "markdown",
   "metadata": {},
   "source": [
    "# 可视化结果分析结论              \n",
    "\n",
    "- 自 1 月 28 日以来，每天报告的病例数量增加了近250%。2 月 4 日报告的病例数为 3915 例。这表明该病毒具有高度的传染性，正在迅速传播。              \n",
    "\n",
    "\n",
    "\n",
    "- 在第一周，死亡率高于康复率。自 1 月 31 日以来，康复率迅速上升，并呈现出积极的趋势。2 月 4 日有 255 人康复，而死亡人数为 66 人。随着越来越多的人了解症状并及时寻求药物治疗，康复率将继续提高。              \n",
    "\n",
    "\n",
    "\n",
    "\n",
    "- 在2020-05时间段死亡率达到了最高峰，再后来的日子里，死亡率下降了\n",
    "- 与在地理上和中国位置相近的国家，如俄罗斯、美国、英国、印度、巴西报告的病例比其他亚洲和欧洲国家多。德国是一个例外，其拥有的病例在欧洲最多。              \n",
    "\n",
    "\n",
    "\n",
    "\n",
    "- 死亡率从未超过 3%，正在逐渐下降到 2%。未来几周更多的康复病例可能会进一步降低这一数字。\n",
    "\n",
    "\n",
    "\n",
    "\n",
    "- 中国湖北省是此次疫情的中心，报告的病例明显多于其他所有省份的总和。有些省份没有死亡病例，所有受感染的病人都康复了。              \n"
   ]
  }
 ],
 "metadata": {
  "hide_input": false,
  "kernelspec": {
   "display_name": "Python 3",
   "language": "python",
   "name": "python3"
  },
  "language_info": {
   "codemirror_mode": {
    "name": "ipython",
    "version": 3
   },
   "file_extension": ".py",
   "mimetype": "text/x-python",
   "name": "python",
   "nbconvert_exporter": "python",
   "pygments_lexer": "ipython3",
   "version": "3.6.4"
  },
  "latex_envs": {
   "LaTeX_envs_menu_present": true,
   "autoclose": false,
   "autocomplete": true,
   "bibliofile": "biblio.bib",
   "cite_by": "apalike",
   "current_citInitial": 1,
   "eqLabelWithNumbers": true,
   "eqNumInitial": 1,
   "hotkeys": {
    "equation": "Ctrl-E",
    "itemize": "Ctrl-I"
   },
   "labels_anchors": false,
   "latex_user_defs": false,
   "report_style_numbering": false,
   "user_envs_cfg": false
  },
  "varInspector": {
   "cols": {
    "lenName": 16,
    "lenType": 16,
    "lenVar": 40
   },
   "kernels_config": {
    "python": {
     "delete_cmd_postfix": "",
     "delete_cmd_prefix": "del ",
     "library": "var_list.py",
     "varRefreshCmd": "print(var_dic_list())"
    },
    "r": {
     "delete_cmd_postfix": ") ",
     "delete_cmd_prefix": "rm(",
     "library": "var_list.r",
     "varRefreshCmd": "cat(var_dic_list()) "
    }
   },
   "types_to_exclude": [
    "module",
    "function",
    "builtin_function_or_method",
    "instance",
    "_Feature"
   ],
   "window_display": false
  }
 },
 "nbformat": 4,
 "nbformat_minor": 2
}
